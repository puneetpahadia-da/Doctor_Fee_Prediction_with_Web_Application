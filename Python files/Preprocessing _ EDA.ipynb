{
 "cells": [
  {
   "cell_type": "code",
   "execution_count": 8,
   "metadata": {
    "id": "uenUdBLrxetd"
   },
   "outputs": [],
   "source": [
    "import pandas as pd\n",
    "import numpy as np\n",
    "import matplotlib.pyplot as plt\n",
    "%matplotlib inline\n",
    "import seaborn as sns\n",
    "sns.set()"
   ]
  },
  {
   "cell_type": "code",
   "execution_count": 9,
   "metadata": {
    "id": "Tg6a4bVNxetj"
   },
   "outputs": [],
   "source": [
    "df=pd.read_csv('./raw_practo.csv')"
   ]
  },
  {
   "cell_type": "code",
   "execution_count": 10,
   "metadata": {
    "colab": {
     "base_uri": "https://localhost:8080/",
     "height": 641
    },
    "id": "ZGMMYHTLxetk",
    "outputId": "c980df76-741e-4769-ca92-076da78d39b3"
   },
   "outputs": [
    {
     "data": {
      "text/html": [
       "<div>\n",
       "<style scoped>\n",
       "    .dataframe tbody tr th:only-of-type {\n",
       "        vertical-align: middle;\n",
       "    }\n",
       "\n",
       "    .dataframe tbody tr th {\n",
       "        vertical-align: top;\n",
       "    }\n",
       "\n",
       "    .dataframe thead th {\n",
       "        text-align: right;\n",
       "    }\n",
       "</style>\n",
       "<table border=\"1\" class=\"dataframe\">\n",
       "  <thead>\n",
       "    <tr style=\"text-align: right;\">\n",
       "      <th></th>\n",
       "      <th>Name</th>\n",
       "      <th>Speciality</th>\n",
       "      <th>Degree</th>\n",
       "      <th>Year_of_experience</th>\n",
       "      <th>Location</th>\n",
       "      <th>City</th>\n",
       "      <th>dp_score</th>\n",
       "      <th>npv</th>\n",
       "      <th>consultation_fee</th>\n",
       "    </tr>\n",
       "  </thead>\n",
       "  <tbody>\n",
       "    <tr>\n",
       "      <th>0</th>\n",
       "      <td>Ms. Priyanka Wincy R</td>\n",
       "      <td>Dietitian/Nutritionist</td>\n",
       "      <td>B.Sc.</td>\n",
       "      <td>4 Years Experience Overall</td>\n",
       "      <td>Koramangala 7 Block, Bangalore</td>\n",
       "      <td>Bangalore</td>\n",
       "      <td>100%</td>\n",
       "      <td>(40 votes)</td>\n",
       "      <td>₹ 600 fee</td>\n",
       "    </tr>\n",
       "    <tr>\n",
       "      <th>1</th>\n",
       "      <td>Ms. Neha Ranglani</td>\n",
       "      <td>Dietitian/Nutritionist</td>\n",
       "      <td>B.Sc.</td>\n",
       "      <td>14 Years Experience Overall  (13 years as spec...</td>\n",
       "      <td>Bandra West, Mumbai</td>\n",
       "      <td>Mumbai</td>\n",
       "      <td>96%</td>\n",
       "      <td>(222 votes)</td>\n",
       "      <td>₹ 2500 fee</td>\n",
       "    </tr>\n",
       "    <tr>\n",
       "      <th>2</th>\n",
       "      <td>Ms. Sonal Bhosale</td>\n",
       "      <td>Dietitian/Nutritionist</td>\n",
       "      <td>B.Sc.</td>\n",
       "      <td>16 Years Experience Overall  (10 years as spec...</td>\n",
       "      <td>Kandivali West, Mumbai</td>\n",
       "      <td>Mumbai</td>\n",
       "      <td>99%</td>\n",
       "      <td>(96 votes)</td>\n",
       "      <td>₹ 0 fee</td>\n",
       "    </tr>\n",
       "    <tr>\n",
       "      <th>3</th>\n",
       "      <td>Ms. Silky Mahajan</td>\n",
       "      <td>Dietitian/Nutritionist</td>\n",
       "      <td>B.Sc.</td>\n",
       "      <td>15 Years Experience Overall</td>\n",
       "      <td>Koramangala 3 Block, Bangalore</td>\n",
       "      <td>Bangalore</td>\n",
       "      <td>97%</td>\n",
       "      <td>(270 votes)</td>\n",
       "      <td>₹ 1770 fee</td>\n",
       "    </tr>\n",
       "    <tr>\n",
       "      <th>4</th>\n",
       "      <td>Ms. Twincy Ann Sunil</td>\n",
       "      <td>Dietitian/Nutritionist</td>\n",
       "      <td>B.Sc.</td>\n",
       "      <td>1 Year Experience Overall</td>\n",
       "      <td>Koramangala 5 Block, Bangalore</td>\n",
       "      <td>Bangalore</td>\n",
       "      <td>99%</td>\n",
       "      <td>(121 votes)</td>\n",
       "      <td>₹ 600 fee</td>\n",
       "    </tr>\n",
       "    <tr>\n",
       "      <th>...</th>\n",
       "      <td>...</td>\n",
       "      <td>...</td>\n",
       "      <td>...</td>\n",
       "      <td>...</td>\n",
       "      <td>...</td>\n",
       "      <td>...</td>\n",
       "      <td>...</td>\n",
       "      <td>...</td>\n",
       "      <td>...</td>\n",
       "    </tr>\n",
       "    <tr>\n",
       "      <th>5996</th>\n",
       "      <td>Ms. Swarn Shikha Sharma</td>\n",
       "      <td>Dietitian/Nutritionist</td>\n",
       "      <td>Post Graduation Diploma in Dietetics</td>\n",
       "      <td>17 Years Experience Overall  (16 years as spec...</td>\n",
       "      <td>Greater Kailash Part 1, Delhi</td>\n",
       "      <td>Delhi</td>\n",
       "      <td>97%</td>\n",
       "      <td>(34 votes)</td>\n",
       "      <td>₹ 300 fee</td>\n",
       "    </tr>\n",
       "    <tr>\n",
       "      <th>5997</th>\n",
       "      <td>Ms. Meghna Parekh Sheth</td>\n",
       "      <td>Dietitian/Nutritionist</td>\n",
       "      <td>Post Graduation Diploma in Dietetics</td>\n",
       "      <td>26 Years Experience Overall  (24 years as spec...</td>\n",
       "      <td>Kandivali West, Mumbai</td>\n",
       "      <td>Mumbai</td>\n",
       "      <td>96%</td>\n",
       "      <td>(168 votes)</td>\n",
       "      <td>₹ 500 fee</td>\n",
       "    </tr>\n",
       "    <tr>\n",
       "      <th>5998</th>\n",
       "      <td>Ms. Shweta Uchil</td>\n",
       "      <td>Dietitian/Nutritionist</td>\n",
       "      <td>Post Graduation Diploma in Dietetics</td>\n",
       "      <td>24 Years Experience Overall  (22 years as spec...</td>\n",
       "      <td>Kandivali West, Mumbai</td>\n",
       "      <td>Mumbai</td>\n",
       "      <td>93%</td>\n",
       "      <td>(15 votes)</td>\n",
       "      <td>₹ 0 fee</td>\n",
       "    </tr>\n",
       "    <tr>\n",
       "      <th>5999</th>\n",
       "      <td>Ms. Pallavi Larecha</td>\n",
       "      <td>Dietitian/Nutritionist</td>\n",
       "      <td>Post Graduation Diploma in Dietetics and Publi...</td>\n",
       "      <td>13 Years Experience Overall  (12 years as spec...</td>\n",
       "      <td>Shalimar Bagh, Delhi</td>\n",
       "      <td>Delhi</td>\n",
       "      <td>92%</td>\n",
       "      <td>(37 votes)</td>\n",
       "      <td>₹ 450 fee</td>\n",
       "    </tr>\n",
       "    <tr>\n",
       "      <th>6000</th>\n",
       "      <td>Ms. Ushma Haria</td>\n",
       "      <td>Dietitian/Nutritionist</td>\n",
       "      <td>Post Graduation Diploma in Dietetics, Masters ...</td>\n",
       "      <td>14 Years Experience Overall  (13 years as spec...</td>\n",
       "      <td>Chembur East, Mumbai</td>\n",
       "      <td>Mumbai</td>\n",
       "      <td>99%</td>\n",
       "      <td>(83 votes)</td>\n",
       "      <td>₹ 800 fee</td>\n",
       "    </tr>\n",
       "  </tbody>\n",
       "</table>\n",
       "<p>6001 rows × 9 columns</p>\n",
       "</div>"
      ],
      "text/plain": [
       "                         Name              Speciality  \\\n",
       "0        Ms. Priyanka Wincy R  Dietitian/Nutritionist   \n",
       "1           Ms. Neha Ranglani  Dietitian/Nutritionist   \n",
       "2           Ms. Sonal Bhosale  Dietitian/Nutritionist   \n",
       "3           Ms. Silky Mahajan  Dietitian/Nutritionist   \n",
       "4        Ms. Twincy Ann Sunil  Dietitian/Nutritionist   \n",
       "...                       ...                     ...   \n",
       "5996  Ms. Swarn Shikha Sharma  Dietitian/Nutritionist   \n",
       "5997  Ms. Meghna Parekh Sheth  Dietitian/Nutritionist   \n",
       "5998         Ms. Shweta Uchil  Dietitian/Nutritionist   \n",
       "5999      Ms. Pallavi Larecha  Dietitian/Nutritionist   \n",
       "6000          Ms. Ushma Haria  Dietitian/Nutritionist   \n",
       "\n",
       "                                                 Degree  \\\n",
       "0                                                 B.Sc.   \n",
       "1                                                 B.Sc.   \n",
       "2                                                 B.Sc.   \n",
       "3                                                 B.Sc.   \n",
       "4                                                 B.Sc.   \n",
       "...                                                 ...   \n",
       "5996               Post Graduation Diploma in Dietetics   \n",
       "5997               Post Graduation Diploma in Dietetics   \n",
       "5998               Post Graduation Diploma in Dietetics   \n",
       "5999  Post Graduation Diploma in Dietetics and Publi...   \n",
       "6000  Post Graduation Diploma in Dietetics, Masters ...   \n",
       "\n",
       "                                     Year_of_experience  \\\n",
       "0                            4 Years Experience Overall   \n",
       "1     14 Years Experience Overall  (13 years as spec...   \n",
       "2     16 Years Experience Overall  (10 years as spec...   \n",
       "3                           15 Years Experience Overall   \n",
       "4                             1 Year Experience Overall   \n",
       "...                                                 ...   \n",
       "5996  17 Years Experience Overall  (16 years as spec...   \n",
       "5997  26 Years Experience Overall  (24 years as spec...   \n",
       "5998  24 Years Experience Overall  (22 years as spec...   \n",
       "5999  13 Years Experience Overall  (12 years as spec...   \n",
       "6000  14 Years Experience Overall  (13 years as spec...   \n",
       "\n",
       "                            Location       City dp_score          npv  \\\n",
       "0     Koramangala 7 Block, Bangalore  Bangalore     100%   (40 votes)   \n",
       "1                Bandra West, Mumbai     Mumbai      96%  (222 votes)   \n",
       "2             Kandivali West, Mumbai     Mumbai      99%   (96 votes)   \n",
       "3     Koramangala 3 Block, Bangalore  Bangalore      97%  (270 votes)   \n",
       "4     Koramangala 5 Block, Bangalore  Bangalore      99%  (121 votes)   \n",
       "...                              ...        ...      ...          ...   \n",
       "5996   Greater Kailash Part 1, Delhi      Delhi      97%   (34 votes)   \n",
       "5997          Kandivali West, Mumbai     Mumbai      96%  (168 votes)   \n",
       "5998          Kandivali West, Mumbai     Mumbai      93%   (15 votes)   \n",
       "5999            Shalimar Bagh, Delhi      Delhi      92%   (37 votes)   \n",
       "6000            Chembur East, Mumbai     Mumbai      99%   (83 votes)   \n",
       "\n",
       "     consultation_fee  \n",
       "0           ₹ 600 fee  \n",
       "1          ₹ 2500 fee  \n",
       "2             ₹ 0 fee  \n",
       "3          ₹ 1770 fee  \n",
       "4           ₹ 600 fee  \n",
       "...               ...  \n",
       "5996        ₹ 300 fee  \n",
       "5997        ₹ 500 fee  \n",
       "5998          ₹ 0 fee  \n",
       "5999        ₹ 450 fee  \n",
       "6000        ₹ 800 fee  \n",
       "\n",
       "[6001 rows x 9 columns]"
      ]
     },
     "execution_count": 10,
     "metadata": {},
     "output_type": "execute_result"
    }
   ],
   "source": [
    "df"
   ]
  },
  {
   "cell_type": "code",
   "execution_count": 11,
   "metadata": {
    "id": "hN-wBcACxetn"
   },
   "outputs": [],
   "source": [
    "df['Year_of_experience']=df['Year_of_experience'].str.replace('[^0-9]',' ',regex=True).str.strip().str.split(expand=True)[0].astype(float)"
   ]
  },
  {
   "cell_type": "code",
   "execution_count": 12,
   "metadata": {
    "colab": {
     "base_uri": "https://localhost:8080/",
     "height": 641
    },
    "id": "7-GI8ZiZxeto",
    "outputId": "6616e40b-6d0e-48e5-94d7-6a3bb39733bc"
   },
   "outputs": [
    {
     "data": {
      "text/html": [
       "<div>\n",
       "<style scoped>\n",
       "    .dataframe tbody tr th:only-of-type {\n",
       "        vertical-align: middle;\n",
       "    }\n",
       "\n",
       "    .dataframe tbody tr th {\n",
       "        vertical-align: top;\n",
       "    }\n",
       "\n",
       "    .dataframe thead th {\n",
       "        text-align: right;\n",
       "    }\n",
       "</style>\n",
       "<table border=\"1\" class=\"dataframe\">\n",
       "  <thead>\n",
       "    <tr style=\"text-align: right;\">\n",
       "      <th></th>\n",
       "      <th>Name</th>\n",
       "      <th>Speciality</th>\n",
       "      <th>Degree</th>\n",
       "      <th>Year_of_experience</th>\n",
       "      <th>Location</th>\n",
       "      <th>City</th>\n",
       "      <th>dp_score</th>\n",
       "      <th>npv</th>\n",
       "      <th>consultation_fee</th>\n",
       "    </tr>\n",
       "  </thead>\n",
       "  <tbody>\n",
       "    <tr>\n",
       "      <th>0</th>\n",
       "      <td>Ms. Priyanka Wincy R</td>\n",
       "      <td>Dietitian/Nutritionist</td>\n",
       "      <td>B.Sc.</td>\n",
       "      <td>4.0</td>\n",
       "      <td>Koramangala 7 Block, Bangalore</td>\n",
       "      <td>Bangalore</td>\n",
       "      <td>100%</td>\n",
       "      <td>(40 votes)</td>\n",
       "      <td>₹ 600 fee</td>\n",
       "    </tr>\n",
       "    <tr>\n",
       "      <th>1</th>\n",
       "      <td>Ms. Neha Ranglani</td>\n",
       "      <td>Dietitian/Nutritionist</td>\n",
       "      <td>B.Sc.</td>\n",
       "      <td>14.0</td>\n",
       "      <td>Bandra West, Mumbai</td>\n",
       "      <td>Mumbai</td>\n",
       "      <td>96%</td>\n",
       "      <td>(222 votes)</td>\n",
       "      <td>₹ 2500 fee</td>\n",
       "    </tr>\n",
       "    <tr>\n",
       "      <th>2</th>\n",
       "      <td>Ms. Sonal Bhosale</td>\n",
       "      <td>Dietitian/Nutritionist</td>\n",
       "      <td>B.Sc.</td>\n",
       "      <td>16.0</td>\n",
       "      <td>Kandivali West, Mumbai</td>\n",
       "      <td>Mumbai</td>\n",
       "      <td>99%</td>\n",
       "      <td>(96 votes)</td>\n",
       "      <td>₹ 0 fee</td>\n",
       "    </tr>\n",
       "    <tr>\n",
       "      <th>3</th>\n",
       "      <td>Ms. Silky Mahajan</td>\n",
       "      <td>Dietitian/Nutritionist</td>\n",
       "      <td>B.Sc.</td>\n",
       "      <td>15.0</td>\n",
       "      <td>Koramangala 3 Block, Bangalore</td>\n",
       "      <td>Bangalore</td>\n",
       "      <td>97%</td>\n",
       "      <td>(270 votes)</td>\n",
       "      <td>₹ 1770 fee</td>\n",
       "    </tr>\n",
       "    <tr>\n",
       "      <th>4</th>\n",
       "      <td>Ms. Twincy Ann Sunil</td>\n",
       "      <td>Dietitian/Nutritionist</td>\n",
       "      <td>B.Sc.</td>\n",
       "      <td>1.0</td>\n",
       "      <td>Koramangala 5 Block, Bangalore</td>\n",
       "      <td>Bangalore</td>\n",
       "      <td>99%</td>\n",
       "      <td>(121 votes)</td>\n",
       "      <td>₹ 600 fee</td>\n",
       "    </tr>\n",
       "    <tr>\n",
       "      <th>...</th>\n",
       "      <td>...</td>\n",
       "      <td>...</td>\n",
       "      <td>...</td>\n",
       "      <td>...</td>\n",
       "      <td>...</td>\n",
       "      <td>...</td>\n",
       "      <td>...</td>\n",
       "      <td>...</td>\n",
       "      <td>...</td>\n",
       "    </tr>\n",
       "    <tr>\n",
       "      <th>5996</th>\n",
       "      <td>Ms. Swarn Shikha Sharma</td>\n",
       "      <td>Dietitian/Nutritionist</td>\n",
       "      <td>Post Graduation Diploma in Dietetics</td>\n",
       "      <td>17.0</td>\n",
       "      <td>Greater Kailash Part 1, Delhi</td>\n",
       "      <td>Delhi</td>\n",
       "      <td>97%</td>\n",
       "      <td>(34 votes)</td>\n",
       "      <td>₹ 300 fee</td>\n",
       "    </tr>\n",
       "    <tr>\n",
       "      <th>5997</th>\n",
       "      <td>Ms. Meghna Parekh Sheth</td>\n",
       "      <td>Dietitian/Nutritionist</td>\n",
       "      <td>Post Graduation Diploma in Dietetics</td>\n",
       "      <td>26.0</td>\n",
       "      <td>Kandivali West, Mumbai</td>\n",
       "      <td>Mumbai</td>\n",
       "      <td>96%</td>\n",
       "      <td>(168 votes)</td>\n",
       "      <td>₹ 500 fee</td>\n",
       "    </tr>\n",
       "    <tr>\n",
       "      <th>5998</th>\n",
       "      <td>Ms. Shweta Uchil</td>\n",
       "      <td>Dietitian/Nutritionist</td>\n",
       "      <td>Post Graduation Diploma in Dietetics</td>\n",
       "      <td>24.0</td>\n",
       "      <td>Kandivali West, Mumbai</td>\n",
       "      <td>Mumbai</td>\n",
       "      <td>93%</td>\n",
       "      <td>(15 votes)</td>\n",
       "      <td>₹ 0 fee</td>\n",
       "    </tr>\n",
       "    <tr>\n",
       "      <th>5999</th>\n",
       "      <td>Ms. Pallavi Larecha</td>\n",
       "      <td>Dietitian/Nutritionist</td>\n",
       "      <td>Post Graduation Diploma in Dietetics and Publi...</td>\n",
       "      <td>13.0</td>\n",
       "      <td>Shalimar Bagh, Delhi</td>\n",
       "      <td>Delhi</td>\n",
       "      <td>92%</td>\n",
       "      <td>(37 votes)</td>\n",
       "      <td>₹ 450 fee</td>\n",
       "    </tr>\n",
       "    <tr>\n",
       "      <th>6000</th>\n",
       "      <td>Ms. Ushma Haria</td>\n",
       "      <td>Dietitian/Nutritionist</td>\n",
       "      <td>Post Graduation Diploma in Dietetics, Masters ...</td>\n",
       "      <td>14.0</td>\n",
       "      <td>Chembur East, Mumbai</td>\n",
       "      <td>Mumbai</td>\n",
       "      <td>99%</td>\n",
       "      <td>(83 votes)</td>\n",
       "      <td>₹ 800 fee</td>\n",
       "    </tr>\n",
       "  </tbody>\n",
       "</table>\n",
       "<p>6001 rows × 9 columns</p>\n",
       "</div>"
      ],
      "text/plain": [
       "                         Name              Speciality  \\\n",
       "0        Ms. Priyanka Wincy R  Dietitian/Nutritionist   \n",
       "1           Ms. Neha Ranglani  Dietitian/Nutritionist   \n",
       "2           Ms. Sonal Bhosale  Dietitian/Nutritionist   \n",
       "3           Ms. Silky Mahajan  Dietitian/Nutritionist   \n",
       "4        Ms. Twincy Ann Sunil  Dietitian/Nutritionist   \n",
       "...                       ...                     ...   \n",
       "5996  Ms. Swarn Shikha Sharma  Dietitian/Nutritionist   \n",
       "5997  Ms. Meghna Parekh Sheth  Dietitian/Nutritionist   \n",
       "5998         Ms. Shweta Uchil  Dietitian/Nutritionist   \n",
       "5999      Ms. Pallavi Larecha  Dietitian/Nutritionist   \n",
       "6000          Ms. Ushma Haria  Dietitian/Nutritionist   \n",
       "\n",
       "                                                 Degree  Year_of_experience  \\\n",
       "0                                                 B.Sc.                 4.0   \n",
       "1                                                 B.Sc.                14.0   \n",
       "2                                                 B.Sc.                16.0   \n",
       "3                                                 B.Sc.                15.0   \n",
       "4                                                 B.Sc.                 1.0   \n",
       "...                                                 ...                 ...   \n",
       "5996               Post Graduation Diploma in Dietetics                17.0   \n",
       "5997               Post Graduation Diploma in Dietetics                26.0   \n",
       "5998               Post Graduation Diploma in Dietetics                24.0   \n",
       "5999  Post Graduation Diploma in Dietetics and Publi...                13.0   \n",
       "6000  Post Graduation Diploma in Dietetics, Masters ...                14.0   \n",
       "\n",
       "                            Location       City dp_score          npv  \\\n",
       "0     Koramangala 7 Block, Bangalore  Bangalore     100%   (40 votes)   \n",
       "1                Bandra West, Mumbai     Mumbai      96%  (222 votes)   \n",
       "2             Kandivali West, Mumbai     Mumbai      99%   (96 votes)   \n",
       "3     Koramangala 3 Block, Bangalore  Bangalore      97%  (270 votes)   \n",
       "4     Koramangala 5 Block, Bangalore  Bangalore      99%  (121 votes)   \n",
       "...                              ...        ...      ...          ...   \n",
       "5996   Greater Kailash Part 1, Delhi      Delhi      97%   (34 votes)   \n",
       "5997          Kandivali West, Mumbai     Mumbai      96%  (168 votes)   \n",
       "5998          Kandivali West, Mumbai     Mumbai      93%   (15 votes)   \n",
       "5999            Shalimar Bagh, Delhi      Delhi      92%   (37 votes)   \n",
       "6000            Chembur East, Mumbai     Mumbai      99%   (83 votes)   \n",
       "\n",
       "     consultation_fee  \n",
       "0           ₹ 600 fee  \n",
       "1          ₹ 2500 fee  \n",
       "2             ₹ 0 fee  \n",
       "3          ₹ 1770 fee  \n",
       "4           ₹ 600 fee  \n",
       "...               ...  \n",
       "5996        ₹ 300 fee  \n",
       "5997        ₹ 500 fee  \n",
       "5998          ₹ 0 fee  \n",
       "5999        ₹ 450 fee  \n",
       "6000        ₹ 800 fee  \n",
       "\n",
       "[6001 rows x 9 columns]"
      ]
     },
     "execution_count": 12,
     "metadata": {},
     "output_type": "execute_result"
    }
   ],
   "source": [
    "df"
   ]
  },
  {
   "cell_type": "code",
   "execution_count": 13,
   "metadata": {
    "id": "cFJgtbfgxetp"
   },
   "outputs": [],
   "source": [
    "df[['Location', 'Location-1']] = df['Location'].str.split(',', expand=True)"
   ]
  },
  {
   "cell_type": "code",
   "execution_count": 14,
   "metadata": {
    "id": "FVhqWb0Nxetq"
   },
   "outputs": [],
   "source": [
    "df.drop('Location-1',axis=1,inplace=True)"
   ]
  },
  {
   "cell_type": "code",
   "execution_count": 15,
   "metadata": {
    "colab": {
     "base_uri": "https://localhost:8080/",
     "height": 641
    },
    "id": "Z-DgS0IJxetr",
    "outputId": "0b5aa269-c6eb-4ce9-a61a-8bb9b51f2e0f"
   },
   "outputs": [
    {
     "data": {
      "text/html": [
       "<div>\n",
       "<style scoped>\n",
       "    .dataframe tbody tr th:only-of-type {\n",
       "        vertical-align: middle;\n",
       "    }\n",
       "\n",
       "    .dataframe tbody tr th {\n",
       "        vertical-align: top;\n",
       "    }\n",
       "\n",
       "    .dataframe thead th {\n",
       "        text-align: right;\n",
       "    }\n",
       "</style>\n",
       "<table border=\"1\" class=\"dataframe\">\n",
       "  <thead>\n",
       "    <tr style=\"text-align: right;\">\n",
       "      <th></th>\n",
       "      <th>Name</th>\n",
       "      <th>Speciality</th>\n",
       "      <th>Degree</th>\n",
       "      <th>Year_of_experience</th>\n",
       "      <th>Location</th>\n",
       "      <th>City</th>\n",
       "      <th>dp_score</th>\n",
       "      <th>npv</th>\n",
       "      <th>consultation_fee</th>\n",
       "    </tr>\n",
       "  </thead>\n",
       "  <tbody>\n",
       "    <tr>\n",
       "      <th>0</th>\n",
       "      <td>Ms. Priyanka Wincy R</td>\n",
       "      <td>Dietitian/Nutritionist</td>\n",
       "      <td>B.Sc.</td>\n",
       "      <td>4.0</td>\n",
       "      <td>Koramangala 7 Block</td>\n",
       "      <td>Bangalore</td>\n",
       "      <td>100%</td>\n",
       "      <td>(40 votes)</td>\n",
       "      <td>₹ 600 fee</td>\n",
       "    </tr>\n",
       "    <tr>\n",
       "      <th>1</th>\n",
       "      <td>Ms. Neha Ranglani</td>\n",
       "      <td>Dietitian/Nutritionist</td>\n",
       "      <td>B.Sc.</td>\n",
       "      <td>14.0</td>\n",
       "      <td>Bandra West</td>\n",
       "      <td>Mumbai</td>\n",
       "      <td>96%</td>\n",
       "      <td>(222 votes)</td>\n",
       "      <td>₹ 2500 fee</td>\n",
       "    </tr>\n",
       "    <tr>\n",
       "      <th>2</th>\n",
       "      <td>Ms. Sonal Bhosale</td>\n",
       "      <td>Dietitian/Nutritionist</td>\n",
       "      <td>B.Sc.</td>\n",
       "      <td>16.0</td>\n",
       "      <td>Kandivali West</td>\n",
       "      <td>Mumbai</td>\n",
       "      <td>99%</td>\n",
       "      <td>(96 votes)</td>\n",
       "      <td>₹ 0 fee</td>\n",
       "    </tr>\n",
       "    <tr>\n",
       "      <th>3</th>\n",
       "      <td>Ms. Silky Mahajan</td>\n",
       "      <td>Dietitian/Nutritionist</td>\n",
       "      <td>B.Sc.</td>\n",
       "      <td>15.0</td>\n",
       "      <td>Koramangala 3 Block</td>\n",
       "      <td>Bangalore</td>\n",
       "      <td>97%</td>\n",
       "      <td>(270 votes)</td>\n",
       "      <td>₹ 1770 fee</td>\n",
       "    </tr>\n",
       "    <tr>\n",
       "      <th>4</th>\n",
       "      <td>Ms. Twincy Ann Sunil</td>\n",
       "      <td>Dietitian/Nutritionist</td>\n",
       "      <td>B.Sc.</td>\n",
       "      <td>1.0</td>\n",
       "      <td>Koramangala 5 Block</td>\n",
       "      <td>Bangalore</td>\n",
       "      <td>99%</td>\n",
       "      <td>(121 votes)</td>\n",
       "      <td>₹ 600 fee</td>\n",
       "    </tr>\n",
       "    <tr>\n",
       "      <th>...</th>\n",
       "      <td>...</td>\n",
       "      <td>...</td>\n",
       "      <td>...</td>\n",
       "      <td>...</td>\n",
       "      <td>...</td>\n",
       "      <td>...</td>\n",
       "      <td>...</td>\n",
       "      <td>...</td>\n",
       "      <td>...</td>\n",
       "    </tr>\n",
       "    <tr>\n",
       "      <th>5996</th>\n",
       "      <td>Ms. Swarn Shikha Sharma</td>\n",
       "      <td>Dietitian/Nutritionist</td>\n",
       "      <td>Post Graduation Diploma in Dietetics</td>\n",
       "      <td>17.0</td>\n",
       "      <td>Greater Kailash Part 1</td>\n",
       "      <td>Delhi</td>\n",
       "      <td>97%</td>\n",
       "      <td>(34 votes)</td>\n",
       "      <td>₹ 300 fee</td>\n",
       "    </tr>\n",
       "    <tr>\n",
       "      <th>5997</th>\n",
       "      <td>Ms. Meghna Parekh Sheth</td>\n",
       "      <td>Dietitian/Nutritionist</td>\n",
       "      <td>Post Graduation Diploma in Dietetics</td>\n",
       "      <td>26.0</td>\n",
       "      <td>Kandivali West</td>\n",
       "      <td>Mumbai</td>\n",
       "      <td>96%</td>\n",
       "      <td>(168 votes)</td>\n",
       "      <td>₹ 500 fee</td>\n",
       "    </tr>\n",
       "    <tr>\n",
       "      <th>5998</th>\n",
       "      <td>Ms. Shweta Uchil</td>\n",
       "      <td>Dietitian/Nutritionist</td>\n",
       "      <td>Post Graduation Diploma in Dietetics</td>\n",
       "      <td>24.0</td>\n",
       "      <td>Kandivali West</td>\n",
       "      <td>Mumbai</td>\n",
       "      <td>93%</td>\n",
       "      <td>(15 votes)</td>\n",
       "      <td>₹ 0 fee</td>\n",
       "    </tr>\n",
       "    <tr>\n",
       "      <th>5999</th>\n",
       "      <td>Ms. Pallavi Larecha</td>\n",
       "      <td>Dietitian/Nutritionist</td>\n",
       "      <td>Post Graduation Diploma in Dietetics and Publi...</td>\n",
       "      <td>13.0</td>\n",
       "      <td>Shalimar Bagh</td>\n",
       "      <td>Delhi</td>\n",
       "      <td>92%</td>\n",
       "      <td>(37 votes)</td>\n",
       "      <td>₹ 450 fee</td>\n",
       "    </tr>\n",
       "    <tr>\n",
       "      <th>6000</th>\n",
       "      <td>Ms. Ushma Haria</td>\n",
       "      <td>Dietitian/Nutritionist</td>\n",
       "      <td>Post Graduation Diploma in Dietetics, Masters ...</td>\n",
       "      <td>14.0</td>\n",
       "      <td>Chembur East</td>\n",
       "      <td>Mumbai</td>\n",
       "      <td>99%</td>\n",
       "      <td>(83 votes)</td>\n",
       "      <td>₹ 800 fee</td>\n",
       "    </tr>\n",
       "  </tbody>\n",
       "</table>\n",
       "<p>6001 rows × 9 columns</p>\n",
       "</div>"
      ],
      "text/plain": [
       "                         Name              Speciality  \\\n",
       "0        Ms. Priyanka Wincy R  Dietitian/Nutritionist   \n",
       "1           Ms. Neha Ranglani  Dietitian/Nutritionist   \n",
       "2           Ms. Sonal Bhosale  Dietitian/Nutritionist   \n",
       "3           Ms. Silky Mahajan  Dietitian/Nutritionist   \n",
       "4        Ms. Twincy Ann Sunil  Dietitian/Nutritionist   \n",
       "...                       ...                     ...   \n",
       "5996  Ms. Swarn Shikha Sharma  Dietitian/Nutritionist   \n",
       "5997  Ms. Meghna Parekh Sheth  Dietitian/Nutritionist   \n",
       "5998         Ms. Shweta Uchil  Dietitian/Nutritionist   \n",
       "5999      Ms. Pallavi Larecha  Dietitian/Nutritionist   \n",
       "6000          Ms. Ushma Haria  Dietitian/Nutritionist   \n",
       "\n",
       "                                                 Degree  Year_of_experience  \\\n",
       "0                                                 B.Sc.                 4.0   \n",
       "1                                                 B.Sc.                14.0   \n",
       "2                                                 B.Sc.                16.0   \n",
       "3                                                 B.Sc.                15.0   \n",
       "4                                                 B.Sc.                 1.0   \n",
       "...                                                 ...                 ...   \n",
       "5996               Post Graduation Diploma in Dietetics                17.0   \n",
       "5997               Post Graduation Diploma in Dietetics                26.0   \n",
       "5998               Post Graduation Diploma in Dietetics                24.0   \n",
       "5999  Post Graduation Diploma in Dietetics and Publi...                13.0   \n",
       "6000  Post Graduation Diploma in Dietetics, Masters ...                14.0   \n",
       "\n",
       "                    Location       City dp_score          npv consultation_fee  \n",
       "0        Koramangala 7 Block  Bangalore     100%   (40 votes)        ₹ 600 fee  \n",
       "1                Bandra West     Mumbai      96%  (222 votes)       ₹ 2500 fee  \n",
       "2             Kandivali West     Mumbai      99%   (96 votes)          ₹ 0 fee  \n",
       "3        Koramangala 3 Block  Bangalore      97%  (270 votes)       ₹ 1770 fee  \n",
       "4        Koramangala 5 Block  Bangalore      99%  (121 votes)        ₹ 600 fee  \n",
       "...                      ...        ...      ...          ...              ...  \n",
       "5996  Greater Kailash Part 1      Delhi      97%   (34 votes)        ₹ 300 fee  \n",
       "5997          Kandivali West     Mumbai      96%  (168 votes)        ₹ 500 fee  \n",
       "5998          Kandivali West     Mumbai      93%   (15 votes)          ₹ 0 fee  \n",
       "5999           Shalimar Bagh      Delhi      92%   (37 votes)        ₹ 450 fee  \n",
       "6000            Chembur East     Mumbai      99%   (83 votes)        ₹ 800 fee  \n",
       "\n",
       "[6001 rows x 9 columns]"
      ]
     },
     "execution_count": 15,
     "metadata": {},
     "output_type": "execute_result"
    }
   ],
   "source": [
    "df"
   ]
  },
  {
   "cell_type": "code",
   "execution_count": 16,
   "metadata": {
    "id": "7Tj8UqTcxets"
   },
   "outputs": [],
   "source": [
    "df['dp_score']=df['dp_score'].str.replace(\"[^0-9]\",'',regex=True).astype(int)"
   ]
  },
  {
   "cell_type": "code",
   "execution_count": 17,
   "metadata": {
    "id": "kYFBKLWpxett"
   },
   "outputs": [],
   "source": [
    "df['npv']=df['npv'].str.replace(\"[^0-9]\",'',regex=True).astype(int)"
   ]
  },
  {
   "cell_type": "code",
   "execution_count": 18,
   "metadata": {
    "id": "D5Z7ZAR1xetu"
   },
   "outputs": [],
   "source": [
    "df['consultation_fee']=df['consultation_fee'].str.replace(\"[^0-9]\",'',regex=True).astype(int)"
   ]
  },
  {
   "cell_type": "code",
   "execution_count": 19,
   "metadata": {
    "id": "RSxwkSdBxetu"
   },
   "outputs": [],
   "source": [
    "df['Year_of_experience'].replace('.','',inplace=True)"
   ]
  },
  {
   "cell_type": "code",
   "execution_count": 20,
   "metadata": {
    "id": "RG9328Uwxetv"
   },
   "outputs": [],
   "source": [
    "df=df.dropna()"
   ]
  },
  {
   "cell_type": "code",
   "execution_count": 21,
   "metadata": {
    "colab": {
     "base_uri": "https://localhost:8080/"
    },
    "id": "Xx9hm0Gkxetv",
    "outputId": "f6f43da2-7748-4acf-a91b-eb691651afe5"
   },
   "outputs": [
    {
     "data": {
      "text/plain": [
       "0"
      ]
     },
     "execution_count": 21,
     "metadata": {},
     "output_type": "execute_result"
    }
   ],
   "source": [
    "df['Year_of_experience'].isna().sum()"
   ]
  },
  {
   "cell_type": "code",
   "execution_count": 22,
   "metadata": {
    "colab": {
     "base_uri": "https://localhost:8080/"
    },
    "id": "gQYBluYtxetv",
    "outputId": "6f0e1a08-986c-4c2f-c60d-747dbbaf386c"
   },
   "outputs": [
    {
     "name": "stderr",
     "output_type": "stream",
     "text": [
      "/var/folders/18/4mcy45057dsgrqgdvymcp9540000gn/T/ipykernel_63414/1781557537.py:1: SettingWithCopyWarning: \n",
      "A value is trying to be set on a copy of a slice from a DataFrame.\n",
      "Try using .loc[row_indexer,col_indexer] = value instead\n",
      "\n",
      "See the caveats in the documentation: https://pandas.pydata.org/pandas-docs/stable/user_guide/indexing.html#returning-a-view-versus-a-copy\n",
      "  df['Year_of_experience']=df['Year_of_experience'].astype(int)\n"
     ]
    }
   ],
   "source": [
    "df['Year_of_experience']=df['Year_of_experience'].astype(int)"
   ]
  },
  {
   "cell_type": "code",
   "execution_count": 23,
   "metadata": {
    "colab": {
     "base_uri": "https://localhost:8080/"
    },
    "id": "Pdb2VVqTxetv",
    "outputId": "50de384a-dfc2-409e-c76f-30a9f52fc8d3"
   },
   "outputs": [
    {
     "data": {
      "text/plain": [
       "Name                  object\n",
       "Speciality            object\n",
       "Degree                object\n",
       "Year_of_experience     int64\n",
       "Location              object\n",
       "City                  object\n",
       "dp_score               int64\n",
       "npv                    int64\n",
       "consultation_fee       int64\n",
       "dtype: object"
      ]
     },
     "execution_count": 23,
     "metadata": {},
     "output_type": "execute_result"
    }
   ],
   "source": [
    "df.dtypes"
   ]
  },
  {
   "cell_type": "code",
   "execution_count": 24,
   "metadata": {
    "colab": {
     "base_uri": "https://localhost:8080/"
    },
    "id": "7Sh6pV0Fxetv",
    "outputId": "7206f594-fb0c-44c2-f57d-d31e1baa1fe6"
   },
   "outputs": [
    {
     "name": "stderr",
     "output_type": "stream",
     "text": [
      "/var/folders/18/4mcy45057dsgrqgdvymcp9540000gn/T/ipykernel_63414/1419462623.py:1: SettingWithCopyWarning: \n",
      "A value is trying to be set on a copy of a slice from a DataFrame.\n",
      "Try using .loc[row_indexer,col_indexer] = value instead\n",
      "\n",
      "See the caveats in the documentation: https://pandas.pydata.org/pandas-docs/stable/user_guide/indexing.html#returning-a-view-versus-a-copy\n",
      "  df['npv(votes)']=df['npv']\n"
     ]
    }
   ],
   "source": [
    "df['npv(votes)']=df['npv']"
   ]
  },
  {
   "cell_type": "code",
   "execution_count": 25,
   "metadata": {
    "colab": {
     "base_uri": "https://localhost:8080/"
    },
    "id": "U7GqacyNxetw",
    "outputId": "ab2293cb-4393-41b3-c4f4-33d2d848db1f"
   },
   "outputs": [
    {
     "name": "stderr",
     "output_type": "stream",
     "text": [
      "/var/folders/18/4mcy45057dsgrqgdvymcp9540000gn/T/ipykernel_63414/2999678005.py:1: SettingWithCopyWarning: \n",
      "A value is trying to be set on a copy of a slice from a DataFrame\n",
      "\n",
      "See the caveats in the documentation: https://pandas.pydata.org/pandas-docs/stable/user_guide/indexing.html#returning-a-view-versus-a-copy\n",
      "  df.drop('npv',axis=1,inplace=True)\n"
     ]
    }
   ],
   "source": [
    "df.drop('npv',axis=1,inplace=True)"
   ]
  },
  {
   "cell_type": "code",
   "execution_count": 26,
   "metadata": {
    "colab": {
     "base_uri": "https://localhost:8080/",
     "height": 589
    },
    "id": "s7aGt0Eoxetw",
    "outputId": "13358171-f06d-4801-cc16-2a9257ec90de"
   },
   "outputs": [
    {
     "data": {
      "text/html": [
       "<div>\n",
       "<style scoped>\n",
       "    .dataframe tbody tr th:only-of-type {\n",
       "        vertical-align: middle;\n",
       "    }\n",
       "\n",
       "    .dataframe tbody tr th {\n",
       "        vertical-align: top;\n",
       "    }\n",
       "\n",
       "    .dataframe thead th {\n",
       "        text-align: right;\n",
       "    }\n",
       "</style>\n",
       "<table border=\"1\" class=\"dataframe\">\n",
       "  <thead>\n",
       "    <tr style=\"text-align: right;\">\n",
       "      <th></th>\n",
       "      <th>Name</th>\n",
       "      <th>Speciality</th>\n",
       "      <th>Degree</th>\n",
       "      <th>Year_of_experience</th>\n",
       "      <th>Location</th>\n",
       "      <th>City</th>\n",
       "      <th>dp_score</th>\n",
       "      <th>consultation_fee</th>\n",
       "      <th>npv(votes)</th>\n",
       "    </tr>\n",
       "  </thead>\n",
       "  <tbody>\n",
       "    <tr>\n",
       "      <th>0</th>\n",
       "      <td>Ms. Priyanka Wincy R</td>\n",
       "      <td>Dietitian/Nutritionist</td>\n",
       "      <td>B.Sc.</td>\n",
       "      <td>4</td>\n",
       "      <td>Koramangala 7 Block</td>\n",
       "      <td>Bangalore</td>\n",
       "      <td>100</td>\n",
       "      <td>600</td>\n",
       "      <td>40</td>\n",
       "    </tr>\n",
       "    <tr>\n",
       "      <th>1</th>\n",
       "      <td>Ms. Neha Ranglani</td>\n",
       "      <td>Dietitian/Nutritionist</td>\n",
       "      <td>B.Sc.</td>\n",
       "      <td>14</td>\n",
       "      <td>Bandra West</td>\n",
       "      <td>Mumbai</td>\n",
       "      <td>96</td>\n",
       "      <td>2500</td>\n",
       "      <td>222</td>\n",
       "    </tr>\n",
       "  </tbody>\n",
       "</table>\n",
       "</div>"
      ],
      "text/plain": [
       "                   Name              Speciality Degree  Year_of_experience  \\\n",
       "0  Ms. Priyanka Wincy R  Dietitian/Nutritionist  B.Sc.                   4   \n",
       "1     Ms. Neha Ranglani  Dietitian/Nutritionist  B.Sc.                  14   \n",
       "\n",
       "              Location       City  dp_score  consultation_fee  npv(votes)  \n",
       "0  Koramangala 7 Block  Bangalore       100               600          40  \n",
       "1          Bandra West     Mumbai        96              2500         222  "
      ]
     },
     "execution_count": 26,
     "metadata": {},
     "output_type": "execute_result"
    }
   ],
   "source": [
    "df.head(2)"
   ]
  },
  {
   "cell_type": "code",
   "execution_count": 27,
   "metadata": {
    "colab": {
     "base_uri": "https://localhost:8080/"
    },
    "id": "Y4zcu9ZVxetw",
    "outputId": "144d6f15-ce38-457d-d86a-5d8342107c95"
   },
   "outputs": [
    {
     "data": {
      "text/plain": [
       "(5999, 9)"
      ]
     },
     "execution_count": 27,
     "metadata": {},
     "output_type": "execute_result"
    }
   ],
   "source": [
    "df.shape"
   ]
  },
  {
   "cell_type": "code",
   "execution_count": 28,
   "metadata": {
    "colab": {
     "base_uri": "https://localhost:8080/"
    },
    "id": "sB7cy9ONxetw",
    "outputId": "8b2adcf5-17ea-41d7-f1cf-9f789bd8b86e"
   },
   "outputs": [
    {
     "data": {
      "text/plain": [
       "6"
      ]
     },
     "execution_count": 28,
     "metadata": {},
     "output_type": "execute_result"
    }
   ],
   "source": [
    "df.duplicated().sum()"
   ]
  },
  {
   "cell_type": "code",
   "execution_count": 29,
   "metadata": {
    "colab": {
     "base_uri": "https://localhost:8080/"
    },
    "id": "Ualw1C3zxetw",
    "outputId": "cb470ecb-ae05-4fc0-9142-6c12b4431807"
   },
   "outputs": [
    {
     "name": "stderr",
     "output_type": "stream",
     "text": [
      "/var/folders/18/4mcy45057dsgrqgdvymcp9540000gn/T/ipykernel_63414/3006716147.py:1: SettingWithCopyWarning: \n",
      "A value is trying to be set on a copy of a slice from a DataFrame\n",
      "\n",
      "See the caveats in the documentation: https://pandas.pydata.org/pandas-docs/stable/user_guide/indexing.html#returning-a-view-versus-a-copy\n",
      "  df.drop_duplicates(inplace=True)\n"
     ]
    }
   ],
   "source": [
    "df.drop_duplicates(inplace=True)"
   ]
  },
  {
   "cell_type": "code",
   "execution_count": 30,
   "metadata": {
    "colab": {
     "base_uri": "https://localhost:8080/"
    },
    "id": "XhZxAQmGxetx",
    "outputId": "bd1c8208-68f6-411a-f6f1-36a17385518f"
   },
   "outputs": [
    {
     "data": {
      "text/plain": [
       "(5993, 9)"
      ]
     },
     "execution_count": 30,
     "metadata": {},
     "output_type": "execute_result"
    }
   ],
   "source": [
    "df.shape"
   ]
  },
  {
   "cell_type": "code",
   "execution_count": 31,
   "metadata": {
    "colab": {
     "base_uri": "https://localhost:8080/"
    },
    "id": "oynizVHpxety",
    "outputId": "6e734712-2ecf-4ad9-fc86-652641ea51d1"
   },
   "outputs": [
    {
     "name": "stderr",
     "output_type": "stream",
     "text": [
      "/var/folders/18/4mcy45057dsgrqgdvymcp9540000gn/T/ipykernel_63414/3525385512.py:1: SettingWithCopyWarning: \n",
      "A value is trying to be set on a copy of a slice from a DataFrame.\n",
      "Try using .loc[row_indexer,col_indexer] = value instead\n",
      "\n",
      "See the caveats in the documentation: https://pandas.pydata.org/pandas-docs/stable/user_guide/indexing.html#returning-a-view-versus-a-copy\n",
      "  df['Dgree-1'] = df['Degree'].str.split().str[0]\n"
     ]
    }
   ],
   "source": [
    "df['Dgree-1'] = df['Degree'].str.split().str[0]"
   ]
  },
  {
   "cell_type": "code",
   "execution_count": 32,
   "metadata": {
    "colab": {
     "base_uri": "https://localhost:8080/"
    },
    "id": "cNktfMrYxety",
    "outputId": "1a2cb56f-63aa-4266-a904-648132ede99d"
   },
   "outputs": [
    {
     "name": "stderr",
     "output_type": "stream",
     "text": [
      "/var/folders/18/4mcy45057dsgrqgdvymcp9540000gn/T/ipykernel_63414/268376025.py:1: SettingWithCopyWarning: \n",
      "A value is trying to be set on a copy of a slice from a DataFrame.\n",
      "Try using .loc[row_indexer,col_indexer] = value instead\n",
      "\n",
      "See the caveats in the documentation: https://pandas.pydata.org/pandas-docs/stable/user_guide/indexing.html#returning-a-view-versus-a-copy\n",
      "  df['Dgree-1']=df['Dgree-1'].str.replace(\"[^a-zA-Z]\",'',regex=True)\n"
     ]
    }
   ],
   "source": [
    "df['Dgree-1']=df['Dgree-1'].str.replace(\"[^a-zA-Z]\",'',regex=True)"
   ]
  },
  {
   "cell_type": "code",
   "execution_count": 33,
   "metadata": {
    "colab": {
     "base_uri": "https://localhost:8080/"
    },
    "id": "EyVwPE3Mxety",
    "outputId": "773a80ca-3c36-4ad4-ae78-898b15fc16ac"
   },
   "outputs": [
    {
     "data": {
      "text/plain": [
       "PGD        2\n",
       "DVD        1\n",
       "DNHE       1\n",
       "FNB        1\n",
       "Member     1\n",
       "MRCOGUK    1\n",
       "MRCS       1\n",
       "Fellow     1\n",
       "Name: Dgree-1, dtype: int64"
      ]
     },
     "execution_count": 33,
     "metadata": {},
     "output_type": "execute_result"
    }
   ],
   "source": [
    "df['Dgree-1'].value_counts().tail(8)"
   ]
  },
  {
   "cell_type": "code",
   "execution_count": 34,
   "metadata": {
    "colab": {
     "base_uri": "https://localhost:8080/"
    },
    "id": "HzNE1B9Uxety",
    "outputId": "5ac8a369-18ca-4786-8b9d-df6cff5b9ea3"
   },
   "outputs": [
    {
     "name": "stderr",
     "output_type": "stream",
     "text": [
      "/var/folders/18/4mcy45057dsgrqgdvymcp9540000gn/T/ipykernel_63414/4139816139.py:1: SettingWithCopyWarning: \n",
      "A value is trying to be set on a copy of a slice from a DataFrame\n",
      "\n",
      "See the caveats in the documentation: https://pandas.pydata.org/pandas-docs/stable/user_guide/indexing.html#returning-a-view-versus-a-copy\n",
      "  df['Dgree-1'].replace('BPThBPT','BPTh/BPT',inplace=True)\n",
      "/var/folders/18/4mcy45057dsgrqgdvymcp9540000gn/T/ipykernel_63414/4139816139.py:2: SettingWithCopyWarning: \n",
      "A value is trying to be set on a copy of a slice from a DataFrame\n",
      "\n",
      "See the caveats in the documentation: https://pandas.pydata.org/pandas-docs/stable/user_guide/indexing.html#returning-a-view-versus-a-copy\n",
      "  df['Dgree-1'].replace('MPThMPT','MPTh/MPT',inplace=True)\n",
      "/var/folders/18/4mcy45057dsgrqgdvymcp9540000gn/T/ipykernel_63414/4139816139.py:3: SettingWithCopyWarning: \n",
      "A value is trying to be set on a copy of a slice from a DataFrame\n",
      "\n",
      "See the caveats in the documentation: https://pandas.pydata.org/pandas-docs/stable/user_guide/indexing.html#returning-a-view-versus-a-copy\n",
      "  df['Dgree-1'].replace('MPTMPTh','MPTh/MPT',inplace=True)\n",
      "/var/folders/18/4mcy45057dsgrqgdvymcp9540000gn/T/ipykernel_63414/4139816139.py:4: SettingWithCopyWarning: \n",
      "A value is trying to be set on a copy of a slice from a DataFrame\n",
      "\n",
      "See the caveats in the documentation: https://pandas.pydata.org/pandas-docs/stable/user_guide/indexing.html#returning-a-view-versus-a-copy\n",
      "  df['Dgree-1'].replace('DO','Doctorate',inplace=True)\n",
      "/var/folders/18/4mcy45057dsgrqgdvymcp9540000gn/T/ipykernel_63414/4139816139.py:5: SettingWithCopyWarning: \n",
      "A value is trying to be set on a copy of a slice from a DataFrame\n",
      "\n",
      "See the caveats in the documentation: https://pandas.pydata.org/pandas-docs/stable/user_guide/indexing.html#returning-a-view-versus-a-copy\n",
      "  df['Dgree-1'].replace('Doctor','Doctorate',inplace=True)\n",
      "/var/folders/18/4mcy45057dsgrqgdvymcp9540000gn/T/ipykernel_63414/4139816139.py:6: SettingWithCopyWarning: \n",
      "A value is trying to be set on a copy of a slice from a DataFrame\n",
      "\n",
      "See the caveats in the documentation: https://pandas.pydata.org/pandas-docs/stable/user_guide/indexing.html#returning-a-view-versus-a-copy\n",
      "  df['Dgree-1'].replace('Post','PG',inplace=True)\n"
     ]
    }
   ],
   "source": [
    "df['Dgree-1'].replace('BPThBPT','BPTh/BPT',inplace=True)\n",
    "df['Dgree-1'].replace('MPThMPT','MPTh/MPT',inplace=True)\n",
    "df['Dgree-1'].replace('MPTMPTh','MPTh/MPT',inplace=True)\n",
    "df['Dgree-1'].replace('DO','Doctorate',inplace=True)\n",
    "df['Dgree-1'].replace('Doctor','Doctorate',inplace=True)\n",
    "df['Dgree-1'].replace('Post','PG',inplace=True)"
   ]
  },
  {
   "cell_type": "code",
   "execution_count": 35,
   "metadata": {
    "id": "CO7A-dKbxety"
   },
   "outputs": [],
   "source": [
    "remove = ['FNB', 'Fellow', 'DVD', 'Member', 'MRCOGUK', 'MRCS', 'DNHE']\n",
    "df = df[~df['Dgree-1'].isin(remove)]"
   ]
  },
  {
   "cell_type": "code",
   "execution_count": 36,
   "metadata": {
    "colab": {
     "base_uri": "https://localhost:8080/"
    },
    "id": "r-aRyT4Lxety",
    "outputId": "8c248dca-e635-446f-8de6-0eef776eae28"
   },
   "outputs": [
    {
     "data": {
      "text/plain": [
       "DDPHN    3\n",
       "DDHN     3\n",
       "FRCS     3\n",
       "DOMS     2\n",
       "FRCP     2\n",
       "BHMS     2\n",
       "BNYS     2\n",
       "PGD      2\n",
       "Name: Dgree-1, dtype: int64"
      ]
     },
     "execution_count": 36,
     "metadata": {},
     "output_type": "execute_result"
    }
   ],
   "source": [
    "df['Dgree-1'].value_counts().tail(8)"
   ]
  },
  {
   "cell_type": "code",
   "execution_count": 37,
   "metadata": {
    "colab": {
     "base_uri": "https://localhost:8080/"
    },
    "id": "1QJ7f7JBxetz",
    "outputId": "69ef0320-9e7e-4d3d-c94c-62b01ccb1973"
   },
   "outputs": [
    {
     "data": {
      "text/plain": [
       "31"
      ]
     },
     "execution_count": 37,
     "metadata": {},
     "output_type": "execute_result"
    }
   ],
   "source": [
    "df['Dgree-1'].nunique()"
   ]
  },
  {
   "cell_type": "code",
   "execution_count": 38,
   "metadata": {
    "colab": {
     "base_uri": "https://localhost:8080/"
    },
    "id": "XjDc_Ypfxetz",
    "outputId": "ffaa46af-6ca3-4bee-e9c8-0d859e37c4fb"
   },
   "outputs": [],
   "source": [
    "df.drop('Degree',axis=1,inplace=True)"
   ]
  },
  {
   "cell_type": "code",
   "execution_count": 39,
   "metadata": {
    "colab": {
     "base_uri": "https://localhost:8080/"
    },
    "id": "9Q7CCCTexetz",
    "outputId": "24aa189f-8df8-4b3b-83e7-170d3dd23101"
   },
   "outputs": [],
   "source": [
    "df.rename(columns={'Dgree-1': 'Degree'}, inplace=True)"
   ]
  },
  {
   "cell_type": "code",
   "execution_count": 40,
   "metadata": {},
   "outputs": [],
   "source": [
    "df.drop('Name',axis=1,inplace=True)"
   ]
  },
  {
   "cell_type": "code",
   "execution_count": 41,
   "metadata": {
    "colab": {
     "base_uri": "https://localhost:8080/",
     "height": 424
    },
    "id": "zsWRQvYoxetz",
    "outputId": "9cd9a1b2-f766-4616-c87a-a0502e01f6bb"
   },
   "outputs": [
    {
     "data": {
      "text/html": [
       "<div>\n",
       "<style scoped>\n",
       "    .dataframe tbody tr th:only-of-type {\n",
       "        vertical-align: middle;\n",
       "    }\n",
       "\n",
       "    .dataframe tbody tr th {\n",
       "        vertical-align: top;\n",
       "    }\n",
       "\n",
       "    .dataframe thead th {\n",
       "        text-align: right;\n",
       "    }\n",
       "</style>\n",
       "<table border=\"1\" class=\"dataframe\">\n",
       "  <thead>\n",
       "    <tr style=\"text-align: right;\">\n",
       "      <th></th>\n",
       "      <th>index</th>\n",
       "      <th>Speciality</th>\n",
       "      <th>Year_of_experience</th>\n",
       "      <th>Location</th>\n",
       "      <th>City</th>\n",
       "      <th>dp_score</th>\n",
       "      <th>consultation_fee</th>\n",
       "      <th>npv(votes)</th>\n",
       "      <th>Degree</th>\n",
       "    </tr>\n",
       "  </thead>\n",
       "  <tbody>\n",
       "    <tr>\n",
       "      <th>0</th>\n",
       "      <td>0</td>\n",
       "      <td>Dietitian/Nutritionist</td>\n",
       "      <td>4</td>\n",
       "      <td>Koramangala 7 Block</td>\n",
       "      <td>Bangalore</td>\n",
       "      <td>100</td>\n",
       "      <td>600</td>\n",
       "      <td>40</td>\n",
       "      <td>BSc</td>\n",
       "    </tr>\n",
       "    <tr>\n",
       "      <th>1</th>\n",
       "      <td>1</td>\n",
       "      <td>Dietitian/Nutritionist</td>\n",
       "      <td>14</td>\n",
       "      <td>Bandra West</td>\n",
       "      <td>Mumbai</td>\n",
       "      <td>96</td>\n",
       "      <td>2500</td>\n",
       "      <td>222</td>\n",
       "      <td>BSc</td>\n",
       "    </tr>\n",
       "    <tr>\n",
       "      <th>2</th>\n",
       "      <td>2</td>\n",
       "      <td>Dietitian/Nutritionist</td>\n",
       "      <td>16</td>\n",
       "      <td>Kandivali West</td>\n",
       "      <td>Mumbai</td>\n",
       "      <td>99</td>\n",
       "      <td>0</td>\n",
       "      <td>96</td>\n",
       "      <td>BSc</td>\n",
       "    </tr>\n",
       "    <tr>\n",
       "      <th>3</th>\n",
       "      <td>3</td>\n",
       "      <td>Dietitian/Nutritionist</td>\n",
       "      <td>15</td>\n",
       "      <td>Koramangala 3 Block</td>\n",
       "      <td>Bangalore</td>\n",
       "      <td>97</td>\n",
       "      <td>1770</td>\n",
       "      <td>270</td>\n",
       "      <td>BSc</td>\n",
       "    </tr>\n",
       "    <tr>\n",
       "      <th>4</th>\n",
       "      <td>4</td>\n",
       "      <td>Dietitian/Nutritionist</td>\n",
       "      <td>1</td>\n",
       "      <td>Koramangala 5 Block</td>\n",
       "      <td>Bangalore</td>\n",
       "      <td>99</td>\n",
       "      <td>600</td>\n",
       "      <td>121</td>\n",
       "      <td>BSc</td>\n",
       "    </tr>\n",
       "    <tr>\n",
       "      <th>...</th>\n",
       "      <td>...</td>\n",
       "      <td>...</td>\n",
       "      <td>...</td>\n",
       "      <td>...</td>\n",
       "      <td>...</td>\n",
       "      <td>...</td>\n",
       "      <td>...</td>\n",
       "      <td>...</td>\n",
       "      <td>...</td>\n",
       "    </tr>\n",
       "    <tr>\n",
       "      <th>5981</th>\n",
       "      <td>5996</td>\n",
       "      <td>Dietitian/Nutritionist</td>\n",
       "      <td>17</td>\n",
       "      <td>Greater Kailash Part 1</td>\n",
       "      <td>Delhi</td>\n",
       "      <td>97</td>\n",
       "      <td>300</td>\n",
       "      <td>34</td>\n",
       "      <td>PG</td>\n",
       "    </tr>\n",
       "    <tr>\n",
       "      <th>5982</th>\n",
       "      <td>5997</td>\n",
       "      <td>Dietitian/Nutritionist</td>\n",
       "      <td>26</td>\n",
       "      <td>Kandivali West</td>\n",
       "      <td>Mumbai</td>\n",
       "      <td>96</td>\n",
       "      <td>500</td>\n",
       "      <td>168</td>\n",
       "      <td>PG</td>\n",
       "    </tr>\n",
       "    <tr>\n",
       "      <th>5983</th>\n",
       "      <td>5998</td>\n",
       "      <td>Dietitian/Nutritionist</td>\n",
       "      <td>24</td>\n",
       "      <td>Kandivali West</td>\n",
       "      <td>Mumbai</td>\n",
       "      <td>93</td>\n",
       "      <td>0</td>\n",
       "      <td>15</td>\n",
       "      <td>PG</td>\n",
       "    </tr>\n",
       "    <tr>\n",
       "      <th>5984</th>\n",
       "      <td>5999</td>\n",
       "      <td>Dietitian/Nutritionist</td>\n",
       "      <td>13</td>\n",
       "      <td>Shalimar Bagh</td>\n",
       "      <td>Delhi</td>\n",
       "      <td>92</td>\n",
       "      <td>450</td>\n",
       "      <td>37</td>\n",
       "      <td>PG</td>\n",
       "    </tr>\n",
       "    <tr>\n",
       "      <th>5985</th>\n",
       "      <td>6000</td>\n",
       "      <td>Dietitian/Nutritionist</td>\n",
       "      <td>14</td>\n",
       "      <td>Chembur East</td>\n",
       "      <td>Mumbai</td>\n",
       "      <td>99</td>\n",
       "      <td>800</td>\n",
       "      <td>83</td>\n",
       "      <td>PG</td>\n",
       "    </tr>\n",
       "  </tbody>\n",
       "</table>\n",
       "<p>5986 rows × 9 columns</p>\n",
       "</div>"
      ],
      "text/plain": [
       "      index              Speciality  Year_of_experience  \\\n",
       "0         0  Dietitian/Nutritionist                   4   \n",
       "1         1  Dietitian/Nutritionist                  14   \n",
       "2         2  Dietitian/Nutritionist                  16   \n",
       "3         3  Dietitian/Nutritionist                  15   \n",
       "4         4  Dietitian/Nutritionist                   1   \n",
       "...     ...                     ...                 ...   \n",
       "5981   5996  Dietitian/Nutritionist                  17   \n",
       "5982   5997  Dietitian/Nutritionist                  26   \n",
       "5983   5998  Dietitian/Nutritionist                  24   \n",
       "5984   5999  Dietitian/Nutritionist                  13   \n",
       "5985   6000  Dietitian/Nutritionist                  14   \n",
       "\n",
       "                    Location       City  dp_score  consultation_fee  \\\n",
       "0        Koramangala 7 Block  Bangalore       100               600   \n",
       "1                Bandra West     Mumbai        96              2500   \n",
       "2             Kandivali West     Mumbai        99                 0   \n",
       "3        Koramangala 3 Block  Bangalore        97              1770   \n",
       "4        Koramangala 5 Block  Bangalore        99               600   \n",
       "...                      ...        ...       ...               ...   \n",
       "5981  Greater Kailash Part 1      Delhi        97               300   \n",
       "5982          Kandivali West     Mumbai        96               500   \n",
       "5983          Kandivali West     Mumbai        93                 0   \n",
       "5984           Shalimar Bagh      Delhi        92               450   \n",
       "5985            Chembur East     Mumbai        99               800   \n",
       "\n",
       "      npv(votes) Degree  \n",
       "0             40    BSc  \n",
       "1            222    BSc  \n",
       "2             96    BSc  \n",
       "3            270    BSc  \n",
       "4            121    BSc  \n",
       "...          ...    ...  \n",
       "5981          34     PG  \n",
       "5982         168     PG  \n",
       "5983          15     PG  \n",
       "5984          37     PG  \n",
       "5985          83     PG  \n",
       "\n",
       "[5986 rows x 9 columns]"
      ]
     },
     "execution_count": 41,
     "metadata": {},
     "output_type": "execute_result"
    }
   ],
   "source": [
    "df.reset_index()"
   ]
  },
  {
   "cell_type": "code",
   "execution_count": 42,
   "metadata": {
    "colab": {
     "base_uri": "https://localhost:8080/"
    },
    "id": "RCa72o_6xetz",
    "outputId": "8419bb25-8cb5-4a65-b5c7-f3923f7e7f64"
   },
   "outputs": [
    {
     "data": {
      "text/plain": [
       "Speciality            object\n",
       "Year_of_experience     int64\n",
       "Location              object\n",
       "City                  object\n",
       "dp_score               int64\n",
       "consultation_fee       int64\n",
       "npv(votes)             int64\n",
       "Degree                object\n",
       "dtype: object"
      ]
     },
     "execution_count": 42,
     "metadata": {},
     "output_type": "execute_result"
    }
   ],
   "source": [
    "df.dtypes"
   ]
  },
  {
   "cell_type": "code",
   "execution_count": 43,
   "metadata": {
    "id": "V1hKQlrhxeuI"
   },
   "outputs": [],
   "source": [
    "df.to_csv('clean_practo.csv',index=False)"
   ]
  },
  {
   "cell_type": "markdown",
   "metadata": {
    "id": "OemarUQC0m7B"
   },
   "source": [
    "# EDA"
   ]
  },
  {
   "cell_type": "code",
   "execution_count": 44,
   "metadata": {
    "colab": {
     "base_uri": "https://localhost:8080/",
     "height": 424
    },
    "id": "bmExf5wj0oWZ",
    "outputId": "6ce7bfd6-8214-4a57-be1b-e4d1f9c3b141"
   },
   "outputs": [
    {
     "data": {
      "text/html": [
       "<div>\n",
       "<style scoped>\n",
       "    .dataframe tbody tr th:only-of-type {\n",
       "        vertical-align: middle;\n",
       "    }\n",
       "\n",
       "    .dataframe tbody tr th {\n",
       "        vertical-align: top;\n",
       "    }\n",
       "\n",
       "    .dataframe thead th {\n",
       "        text-align: right;\n",
       "    }\n",
       "</style>\n",
       "<table border=\"1\" class=\"dataframe\">\n",
       "  <thead>\n",
       "    <tr style=\"text-align: right;\">\n",
       "      <th></th>\n",
       "      <th>Speciality</th>\n",
       "      <th>Year_of_experience</th>\n",
       "      <th>Location</th>\n",
       "      <th>City</th>\n",
       "      <th>dp_score</th>\n",
       "      <th>consultation_fee</th>\n",
       "      <th>npv(votes)</th>\n",
       "      <th>Degree</th>\n",
       "    </tr>\n",
       "  </thead>\n",
       "  <tbody>\n",
       "    <tr>\n",
       "      <th>0</th>\n",
       "      <td>Dietitian/Nutritionist</td>\n",
       "      <td>4</td>\n",
       "      <td>Koramangala 7 Block</td>\n",
       "      <td>Bangalore</td>\n",
       "      <td>100</td>\n",
       "      <td>600</td>\n",
       "      <td>40</td>\n",
       "      <td>BSc</td>\n",
       "    </tr>\n",
       "    <tr>\n",
       "      <th>1</th>\n",
       "      <td>Dietitian/Nutritionist</td>\n",
       "      <td>14</td>\n",
       "      <td>Bandra West</td>\n",
       "      <td>Mumbai</td>\n",
       "      <td>96</td>\n",
       "      <td>2500</td>\n",
       "      <td>222</td>\n",
       "      <td>BSc</td>\n",
       "    </tr>\n",
       "    <tr>\n",
       "      <th>2</th>\n",
       "      <td>Dietitian/Nutritionist</td>\n",
       "      <td>16</td>\n",
       "      <td>Kandivali West</td>\n",
       "      <td>Mumbai</td>\n",
       "      <td>99</td>\n",
       "      <td>0</td>\n",
       "      <td>96</td>\n",
       "      <td>BSc</td>\n",
       "    </tr>\n",
       "    <tr>\n",
       "      <th>3</th>\n",
       "      <td>Dietitian/Nutritionist</td>\n",
       "      <td>15</td>\n",
       "      <td>Koramangala 3 Block</td>\n",
       "      <td>Bangalore</td>\n",
       "      <td>97</td>\n",
       "      <td>1770</td>\n",
       "      <td>270</td>\n",
       "      <td>BSc</td>\n",
       "    </tr>\n",
       "    <tr>\n",
       "      <th>4</th>\n",
       "      <td>Dietitian/Nutritionist</td>\n",
       "      <td>1</td>\n",
       "      <td>Koramangala 5 Block</td>\n",
       "      <td>Bangalore</td>\n",
       "      <td>99</td>\n",
       "      <td>600</td>\n",
       "      <td>121</td>\n",
       "      <td>BSc</td>\n",
       "    </tr>\n",
       "    <tr>\n",
       "      <th>...</th>\n",
       "      <td>...</td>\n",
       "      <td>...</td>\n",
       "      <td>...</td>\n",
       "      <td>...</td>\n",
       "      <td>...</td>\n",
       "      <td>...</td>\n",
       "      <td>...</td>\n",
       "      <td>...</td>\n",
       "    </tr>\n",
       "    <tr>\n",
       "      <th>5981</th>\n",
       "      <td>Dietitian/Nutritionist</td>\n",
       "      <td>17</td>\n",
       "      <td>Greater Kailash Part 1</td>\n",
       "      <td>Delhi</td>\n",
       "      <td>97</td>\n",
       "      <td>300</td>\n",
       "      <td>34</td>\n",
       "      <td>PG</td>\n",
       "    </tr>\n",
       "    <tr>\n",
       "      <th>5982</th>\n",
       "      <td>Dietitian/Nutritionist</td>\n",
       "      <td>26</td>\n",
       "      <td>Kandivali West</td>\n",
       "      <td>Mumbai</td>\n",
       "      <td>96</td>\n",
       "      <td>500</td>\n",
       "      <td>168</td>\n",
       "      <td>PG</td>\n",
       "    </tr>\n",
       "    <tr>\n",
       "      <th>5983</th>\n",
       "      <td>Dietitian/Nutritionist</td>\n",
       "      <td>24</td>\n",
       "      <td>Kandivali West</td>\n",
       "      <td>Mumbai</td>\n",
       "      <td>93</td>\n",
       "      <td>0</td>\n",
       "      <td>15</td>\n",
       "      <td>PG</td>\n",
       "    </tr>\n",
       "    <tr>\n",
       "      <th>5984</th>\n",
       "      <td>Dietitian/Nutritionist</td>\n",
       "      <td>13</td>\n",
       "      <td>Shalimar Bagh</td>\n",
       "      <td>Delhi</td>\n",
       "      <td>92</td>\n",
       "      <td>450</td>\n",
       "      <td>37</td>\n",
       "      <td>PG</td>\n",
       "    </tr>\n",
       "    <tr>\n",
       "      <th>5985</th>\n",
       "      <td>Dietitian/Nutritionist</td>\n",
       "      <td>14</td>\n",
       "      <td>Chembur East</td>\n",
       "      <td>Mumbai</td>\n",
       "      <td>99</td>\n",
       "      <td>800</td>\n",
       "      <td>83</td>\n",
       "      <td>PG</td>\n",
       "    </tr>\n",
       "  </tbody>\n",
       "</table>\n",
       "<p>5986 rows × 8 columns</p>\n",
       "</div>"
      ],
      "text/plain": [
       "                  Speciality  Year_of_experience                Location  \\\n",
       "0     Dietitian/Nutritionist                   4     Koramangala 7 Block   \n",
       "1     Dietitian/Nutritionist                  14             Bandra West   \n",
       "2     Dietitian/Nutritionist                  16          Kandivali West   \n",
       "3     Dietitian/Nutritionist                  15     Koramangala 3 Block   \n",
       "4     Dietitian/Nutritionist                   1     Koramangala 5 Block   \n",
       "...                      ...                 ...                     ...   \n",
       "5981  Dietitian/Nutritionist                  17  Greater Kailash Part 1   \n",
       "5982  Dietitian/Nutritionist                  26          Kandivali West   \n",
       "5983  Dietitian/Nutritionist                  24          Kandivali West   \n",
       "5984  Dietitian/Nutritionist                  13           Shalimar Bagh   \n",
       "5985  Dietitian/Nutritionist                  14            Chembur East   \n",
       "\n",
       "           City  dp_score  consultation_fee  npv(votes) Degree  \n",
       "0     Bangalore       100               600          40    BSc  \n",
       "1        Mumbai        96              2500         222    BSc  \n",
       "2        Mumbai        99                 0          96    BSc  \n",
       "3     Bangalore        97              1770         270    BSc  \n",
       "4     Bangalore        99               600         121    BSc  \n",
       "...         ...       ...               ...         ...    ...  \n",
       "5981      Delhi        97               300          34     PG  \n",
       "5982     Mumbai        96               500         168     PG  \n",
       "5983     Mumbai        93                 0          15     PG  \n",
       "5984      Delhi        92               450          37     PG  \n",
       "5985     Mumbai        99               800          83     PG  \n",
       "\n",
       "[5986 rows x 8 columns]"
      ]
     },
     "execution_count": 44,
     "metadata": {},
     "output_type": "execute_result"
    }
   ],
   "source": [
    "df2=pd.read_csv('clean_practo.csv')\n",
    "df2"
   ]
  },
  {
   "cell_type": "markdown",
   "metadata": {
    "id": "W1NRD4Qg0pk9"
   },
   "source": [
    "### City Wise analysis of doctors"
   ]
  },
  {
   "cell_type": "code",
   "execution_count": 45,
   "metadata": {
    "colab": {
     "base_uri": "https://localhost:8080/"
    },
    "id": "qj_r6_Yx0oZM",
    "outputId": "9f2322a5-6622-4292-ee4e-0767a7048281"
   },
   "outputs": [
    {
     "name": "stdout",
     "output_type": "stream",
     "text": [
      "City\n",
      "Bangalore    2820\n",
      "Delhi        1787\n",
      "Mumbai       1379\n",
      "Name: Speciality, dtype: int64\n"
     ]
    }
   ],
   "source": [
    "doctor_counts = df2.groupby('City')['Speciality'].count()\n",
    "print(doctor_counts)"
   ]
  },
  {
   "cell_type": "code",
   "execution_count": 46,
   "metadata": {
    "id": "mA3eTQz3UUJx"
   },
   "outputs": [],
   "source": [
    "labels = ['Bangalore', 'Delhi', 'Mumbai']"
   ]
  },
  {
   "cell_type": "code",
   "execution_count": 47,
   "metadata": {
    "colab": {
     "base_uri": "https://localhost:8080/",
     "height": 507
    },
    "id": "DxIgnC4RMKDv",
    "outputId": "e521c847-ea13-4111-d4fa-9cf93afce87f"
   },
   "outputs": [
    {
     "data": {
      "image/png": "[encoded data removed]",
      "text/plain": [
       "<Figure size 500x500 with 1 Axes>"
      ]
     },
     "metadata": {},
     "output_type": "display_data"
    }
   ],
   "source": [
    "colors = ['#ADD8E6', 'pink', '#98FB98']\n",
    "fig, ax = plt.subplots(figsize=(5, 5))\n",
    "\n",
    "def autopct_format(pct):\n",
    "    total = sum(doctor_counts)\n",
    "    value = int(round(pct*total/100.0))\n",
    "    return f'{value}'\n",
    "\n",
    "ax.pie(doctor_counts,labels=labels,autopct=autopct_format, labeldistance=1.1,colors=colors)\n",
    "ax.set_title('City Wise Analysis of Doctors')\n",
    "\n",
    "plt.tight_layout()\n",
    "plt.show()"
   ]
  },
  {
   "cell_type": "markdown",
   "metadata": {
    "id": "MtIsrGtv7ALL"
   },
   "source": [
    "### Top 5 Most Common Degrees"
   ]
  },
  {
   "cell_type": "code",
   "execution_count": 48,
   "metadata": {
    "colab": {
     "base_uri": "https://localhost:8080/"
    },
    "id": "mmCetMMb0ofG",
    "outputId": "8b768109-8bdc-41c3-b470-8b6502c011a9"
   },
   "outputs": [
    {
     "data": {
      "text/plain": [
       "MBBS        3362\n",
       "MDS          873\n",
       "BDS          712\n",
       "MD           203\n",
       "BPTh/BPT     169\n",
       "Name: Degree, dtype: int64"
      ]
     },
     "execution_count": 48,
     "metadata": {},
     "output_type": "execute_result"
    }
   ],
   "source": [
    "df2['Degree'].value_counts().head(5)"
   ]
  },
  {
   "cell_type": "code",
   "execution_count": 49,
   "metadata": {
    "colab": {
     "base_uri": "https://localhost:8080/",
     "height": 487
    },
    "id": "O-KaQKdrAPhM",
    "outputId": "9afcace1-f4c8-41a5-e255-1d2986f3ce47"
   },
   "outputs": [
    {
     "data": {
      "image/png": "[encoded data removed]",
      "text/plain": [
       "<Figure size 640x480 with 1 Axes>"
      ]
     },
     "metadata": {},
     "output_type": "display_data"
    }
   ],
   "source": [
    "ax=df2['Degree'].value_counts().head(5).plot(kind = 'bar',color='skyblue')\n",
    "\n",
    "plt.xlabel('Degrees')\n",
    "plt.ylabel('Number of People')\n",
    "plt.title('Top 5 Degrees')\n",
    "\n",
    "plt.xticks(rotation=45)\n",
    "for container in ax.containers:\n",
    "    for bar in container:\n",
    "        yval = bar.get_height()\n",
    "        plt.text(bar.get_x() + bar.get_width() / 2, yval + 10, f'{yval:.1f}', ha='center', color='black', fontsize=7)\n",
    "\n",
    "plt.tight_layout()\n",
    "plt.show()"
   ]
  },
  {
   "cell_type": "markdown",
   "metadata": {
    "id": "oDCLARjOBLGN"
   },
   "source": [
    "### Correlation between different variables"
   ]
  },
  {
   "cell_type": "code",
   "execution_count": 50,
   "metadata": {
    "colab": {
     "base_uri": "https://localhost:8080/",
     "height": 507
    },
    "id": "r3ij5Pis0oi7",
    "outputId": "69a1ca97-cda2-4de9-90ba-218e28aee4b0"
   },
   "outputs": [
    {
     "name": "stderr",
     "output_type": "stream",
     "text": [
      "/var/folders/18/4mcy45057dsgrqgdvymcp9540000gn/T/ipykernel_63414/2929445766.py:1: FutureWarning: The default value of numeric_only in DataFrame.corr is deprecated. In a future version, it will default to False. Select only valid columns or specify the value of numeric_only to silence this warning.\n",
      "  sns.heatmap(df2.corr(),annot=True)\n"
     ]
    },
    {
     "data": {
      "text/plain": [
       "<Axes: >"
      ]
     },
     "execution_count": 50,
     "metadata": {},
     "output_type": "execute_result"
    },
    {
     "data": {
      "image/png": "[encoded data removed]",
      "text/plain": [
       "<Figure size 640x480 with 2 Axes>"
      ]
     },
     "metadata": {},
     "output_type": "display_data"
    }
   ],
   "source": [
    "sns.heatmap(df2.corr(),annot=True)"
   ]
  },
  {
   "cell_type": "markdown",
   "metadata": {
    "id": "GQdD0VdYBXKm"
   },
   "source": [
    "### Count of Doctors in different Specialties"
   ]
  },
  {
   "cell_type": "code",
   "execution_count": 51,
   "metadata": {
    "colab": {
     "base_uri": "https://localhost:8080/"
    },
    "id": "z-ig6vEMBm7D",
    "outputId": "ef11b56a-126d-42db-c307-c146ef124ce0"
   },
   "outputs": [
    {
     "name": "stdout",
     "output_type": "stream",
     "text": [
      "Dentist                   1601\n",
      "Gynecologist               834\n",
      "Pediatrician               473\n",
      "Orthopedist                461\n",
      "Infertility Specialist     384\n",
      "Dermatologist              382\n",
      "Physiotherapist            302\n",
      "Ophthalmologist            254\n",
      "Cardiologist               199\n",
      "Psychiatrist               170\n",
      "Urologist                  160\n",
      "Gastroenterologist         140\n",
      "Neurosurgeon               136\n",
      "Dietitian/Nutritionist     132\n",
      "Neurologist                118\n",
      "Pulmonologist              100\n",
      "Bariatric Surgeon           84\n",
      "Rheumatologist              50\n",
      "Chiropractor                 6\n",
      "Name: Speciality, dtype: int64\n"
     ]
    }
   ],
   "source": [
    "speciality_count = df2['Speciality'].value_counts()\n",
    "print(speciality_count)"
   ]
  },
  {
   "cell_type": "code",
   "execution_count": 52,
   "metadata": {
    "colab": {
     "base_uri": "https://localhost:8080/",
     "height": 487
    },
    "id": "7W1mfCJsBm-6",
    "outputId": "5b72529a-6e01-45ee-9003-2fd4aab688b5"
   },
   "outputs": [
    {
     "data": {
      "image/png": "[encoded data removed]",
      "text/plain": [
       "<Figure size 640x480 with 1 Axes>"
      ]
     },
     "metadata": {},
     "output_type": "display_data"
    }
   ],
   "source": [
    "ax=df2['Speciality'].value_counts().plot(kind = 'bar',color='skyblue')\n",
    "\n",
    "plt.xlabel('Speciality')\n",
    "plt.ylabel('Number of Doctors')\n",
    "plt.title('Count of Doctors in different Specialties')\n",
    "for container in ax.containers:\n",
    "    for bar in container:\n",
    "        yval = bar.get_height()\n",
    "        plt.text(bar.get_x() + bar.get_width() / 2, yval + 10, f'{yval:.1f}', ha='center', color='black', fontsize=6)\n",
    "plt.tight_layout()\n",
    "plt.show()"
   ]
  },
  {
   "cell_type": "markdown",
   "metadata": {
    "id": "G06JlPwIDN2T"
   },
   "source": [
    "### Max and min price"
   ]
  },
  {
   "cell_type": "code",
   "execution_count": 53,
   "metadata": {
    "colab": {
     "base_uri": "https://localhost:8080/"
    },
    "id": "urGdHJZBDNJi",
    "outputId": "4f1c69bb-0e28-4a7d-85fb-6dbcecba42b3"
   },
   "outputs": [
    {
     "name": "stdout",
     "output_type": "stream",
     "text": [
      "                         max  min\n",
      "Speciality                       \n",
      "Bariatric Surgeon       4000  400\n",
      "Cardiologist            4000  500\n",
      "Chiropractor            3000  700\n",
      "Dentist                 2000    0\n",
      "Dermatologist           3000  300\n",
      "Dietitian/Nutritionist  4000    0\n",
      "Gastroenterologist      2500  350\n",
      "Gynecologist            3000    0\n",
      "Infertility Specialist  3000    0\n",
      "Neurologist             4100  500\n",
      "Neurosurgeon            5000  500\n",
      "Ophthalmologist         5000  200\n",
      "Orthopedist             3000  200\n",
      "Pediatrician            3000  300\n",
      "Physiotherapist         4000    0\n",
      "Psychiatrist            3850  700\n",
      "Pulmonologist           2500  500\n",
      "Rheumatologist          3000  400\n",
      "Urologist               4000  450\n"
     ]
    }
   ],
   "source": [
    "highest_price = df2.groupby('Speciality')['consultation_fee'].agg(['max','min'])\n",
    "print(highest_price)"
   ]
  },
  {
   "cell_type": "code",
   "execution_count": 54,
   "metadata": {
    "colab": {
     "base_uri": "https://localhost:8080/",
     "height": 504
    },
    "id": "T-miCmxjETnf",
    "outputId": "7304315e-6f00-4c88-920a-707f5eb1f697"
   },
   "outputs": [
    {
     "data": {
      "text/plain": [
       "<Figure size 1000x600 with 0 Axes>"
      ]
     },
     "metadata": {},
     "output_type": "display_data"
    },
    {
     "data": {
      "image/png": "[encoded data removed]",
      "text/plain": [
       "<Figure size 640x480 with 1 Axes>"
      ]
     },
     "metadata": {},
     "output_type": "display_data"
    }
   ],
   "source": [
    "plt.figure(figsize=(10, 6))\n",
    "ax=highest_price.plot(kind='bar', color=['skyblue', 'orange'])\n",
    "plt.title('Maximum and Minimum Consultation Fees by Speciality')\n",
    "plt.xlabel('Speciality')\n",
    "plt.ylabel('Consultation Fee')\n",
    "\n",
    "plt.legend(['Max', 'Min'])\n",
    "for container in ax.containers:\n",
    "    for bar in container:\n",
    "        yval = bar.get_height()\n",
    "        plt.text(bar.get_x() + bar.get_width() / 2, yval + 10, f'{yval:.1f}', ha='center', color='black', fontsize=5)\n",
    "\n",
    "plt.tight_layout()\n",
    "plt.show()"
   ]
  },
  {
   "cell_type": "markdown",
   "metadata": {
    "id": "9CcgTrP_E6WF"
   },
   "source": [
    "### Average years of experience"
   ]
  },
  {
   "cell_type": "code",
   "execution_count": 55,
   "metadata": {
    "colab": {
     "base_uri": "https://localhost:8080/"
    },
    "id": "tGJBCRAyFDpa",
    "outputId": "ed0f2a83-ba1a-4f32-9512-a30cd2d73de9"
   },
   "outputs": [
    {
     "name": "stdout",
     "output_type": "stream",
     "text": [
      "Speciality\n",
      "Bariatric Surgeon         24.702381\n",
      "Cardiologist              24.100503\n",
      "Chiropractor              11.500000\n",
      "Dentist                   16.358526\n",
      "Dermatologist             16.230366\n",
      "Dietitian/Nutritionist    15.446970\n",
      "Gastroenterologist        20.671429\n",
      "Gynecologist              22.890887\n",
      "Infertility Specialist    22.083333\n",
      "Neurologist               22.423729\n",
      "Neurosurgeon              21.029412\n",
      "Ophthalmologist           20.188976\n",
      "Orthopedist               21.121475\n",
      "Pediatrician              22.099366\n",
      "Physiotherapist           12.069536\n",
      "Psychiatrist              16.782353\n",
      "Pulmonologist             19.720000\n",
      "Rheumatologist            20.880000\n",
      "Urologist                 21.900000\n",
      "Name: Year_of_experience, dtype: float64\n"
     ]
    }
   ],
   "source": [
    "avg_exp = df2.groupby('Speciality')['Year_of_experience'].agg('mean')\n",
    "\n",
    "print(avg_exp)"
   ]
  },
  {
   "cell_type": "code",
   "execution_count": 56,
   "metadata": {
    "colab": {
     "base_uri": "https://localhost:8080/",
     "height": 607
    },
    "id": "tJ5Ed3YiFD2E",
    "outputId": "b15425f2-1f62-4eaa-adaa-e35880cbbc0b"
   },
   "outputs": [
    {
     "data": {
      "image/png": "[encoded data removed]",
      "text/plain": [
       "<Figure size 1000x600 with 1 Axes>"
      ]
     },
     "metadata": {},
     "output_type": "display_data"
    }
   ],
   "source": [
    "plt.figure(figsize=(10, 6))\n",
    "\n",
    "bars=avg_exp.sort_values().plot(kind='barh', color='skyblue')\n",
    "plt.title('Average Years of Experience by Speciality')\n",
    "plt.xlabel('Average Years of Experience')\n",
    "plt.ylabel('Speciality')\n",
    "for bar in bars.patches:\n",
    "    plt.text(bar.get_width() + 0.2, bar.get_y() + bar.get_height() / 2, f'{bar.get_width():.1f}',\n",
    "             va='center', ha='left', color='black', fontsize=10)\n",
    "\n",
    "plt.tight_layout()\n",
    "plt.show()"
   ]
  },
  {
   "cell_type": "code",
   "execution_count": null,
   "metadata": {
    "id": "QPk-_zP7FD5n"
   },
   "outputs": [],
   "source": []
  }
 ],
 "metadata": {
  "colab": {
   "provenance": []
  },
  "kernelspec": {
   "display_name": "Python 3 (ipykernel)",
   "language": "python",
   "name": "python3"
  },
  "language_info": {
   "codemirror_mode": {
    "name": "ipython",
    "version": 3
   },
   "file_extension": ".py",
   "mimetype": "text/x-python",
   "name": "python",
   "nbconvert_exporter": "python",
   "pygments_lexer": "ipython3",
   "version": "3.10.9"
  }
 },
 "nbformat": 4,
 "nbformat_minor": 1
}
